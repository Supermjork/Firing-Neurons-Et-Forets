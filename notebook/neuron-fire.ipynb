{
 "cells": [
  {
   "cell_type": "markdown",
   "metadata": {},
   "source": [
    "# Neuron-Forest Fire (Name subject to change)\n",
    "#### (Built under Python 3.11.4)\n",
    "#### (By: Mark Ehab Aziz)\n",
    "\n",
    "Project will be done to build and train a neural network using \\<insert library name\\>.\n",
    "\n",
    "So far no idea about anything, will be looking to fix that xd."
   ]
  },
  {
   "cell_type": "code",
   "execution_count": null,
   "metadata": {},
   "outputs": [],
   "source": [
    "# pls help"
   ]
  }
 ],
 "metadata": {
  "language_info": {
   "name": "python"
  },
  "orig_nbformat": 4
 },
 "nbformat": 4,
 "nbformat_minor": 2
}
