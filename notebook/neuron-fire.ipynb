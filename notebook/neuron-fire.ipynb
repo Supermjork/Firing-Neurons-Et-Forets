{
 "cells": [
  {
   "cell_type": "markdown",
   "metadata": {},
   "source": [
    "# Lit frfr (Name subject to change)\n",
    "#### (Built under Python 3.11.4)\n",
    "#### (By: Mark Ehab Aziz)"
   ]
  }
 ],
 "metadata": {
  "language_info": {
   "name": "python"
  },
  "orig_nbformat": 4
 },
 "nbformat": 4,
 "nbformat_minor": 2
}
